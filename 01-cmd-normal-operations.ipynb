{
 "cells": [
  {
   "cell_type": "markdown",
   "metadata": {},
   "source": [
    "# 命令行常用命令"
   ]
  },
  {
   "cell_type": "markdown",
   "metadata": {},
   "source": [
    "## Windows 环境中 powershell 常用命令"
   ]
  },
  {
   "cell_type": "markdown",
   "metadata": {},
   "source": [
    "```powershell\n",
    "pwd\n",
    "```\n",
    "`pwd` 打印工作目录，即 print working directory"
   ]
  },
  {
   "cell_type": "markdown",
   "metadata": {},
   "source": [
    "```powershell\n",
    "hostname\n",
    "```\n",
    "`hostname` 电脑在网络中的名称"
   ]
  },
  {
   "cell_type": "markdown",
   "metadata": {},
   "source": [
    "```powershell\n",
    "mkdir name\n",
    "```\n",
    "`mkdir temp` 创建名称为 temp 的路径\n",
    "\n",
    "`mkdir temp/stuff` 在 temp 路径下（如果没有会创建一个）创建名为 stuff 的路径"
   ]
  },
  {
   "cell_type": "markdown",
   "metadata": {},
   "source": [
    "```powershell\n",
    "cd\n",
    "```\n",
    "\n",
    "`cd ~` 回到用户根路径\n",
    "\n",
    "`cd ..` 回到上一级路径\n",
    "\n",
    "`cd ../../..` 回到上上上级路径\n",
    "\n",
    "`cd temp` 进入名为 temp 的下一级路径\n",
    "\n",
    "`cd ~/temp/stuff` 进入根目录下路径 temp 中的路径 stuff"
   ]
  },
  {
   "cell_type": "markdown",
   "metadata": {},
   "source": [
    "```powershell\n",
    "ls\n",
    "```\n",
    "`ls` 列出当前目录下的内容"
   ]
  },
  {
   "cell_type": "markdown",
   "metadata": {},
   "source": [
    "```powershell\n",
    "rmdir name\n",
    "```\n",
    "`rmdir name` 删除当前目录下名为 name 的路径（不能删除含有文件的路径，含文件的目录可以用`rm -r name`循环删除）"
   ]
  },
  {
   "cell_type": "markdown",
   "metadata": {},
   "source": [
    "```powershell\n",
    "rm uncool.txt\n",
    "rm something/awesome.txt\n",
    "rm -r newplace\n",
    "```\n",
    "`rm uncool.txt` 删除文件`uncool.txt`\n",
    "\n",
    "`rm something/awesome.txt`删除下一级路径`something`下的文件`awesome.txt`\n",
    "\n",
    "`rm -r newplace`删除下一级路径`newplace`以及其里面包含的文件（循环删除，**需要小心操作，防止误删**）"
   ]
  },
  {
   "cell_type": "markdown",
   "metadata": {},
   "source": [
    "```powershell\n",
    "pushd temp/stuff/joe/learn/any/thing\n",
    "popd\n",
    "```\n",
    "`pushd temp/stuff/joe/learn/any/thing` 保存当前路径并转到当前路径下 temp/stuff/joe/learn/any/thing 路径\n",
    "\n",
    "`popd` 回到先前保存的路径（pushd 命令保存的）"
   ]
  },
  {
   "cell_type": "markdown",
   "metadata": {},
   "source": [
    "```powershell\n",
    "New-Item iamcool.txt -type file\n",
    "```\n",
    "`New-Item iamcool.txt -type file` 创建名称为 `iamcool.txt` 的空文件"
   ]
  },
  {
   "cell_type": "markdown",
   "metadata": {},
   "source": [
    "```powershell\n",
    "cp iamcool.txt neat.txt\n",
    "cp iamcool.txt thing/\n",
    "cp -recurse thing newplace\n",
    "```\n",
    "`cp iamcool.txt neat.txt` 复制文件`iamcool.txt`为新文件`neat.txt`\n",
    "\n",
    "`cp iamcool.txt thing/` 复制文件`iamcool.txt`到下一级路径`thing`\n",
    "\n",
    "`cp -recurse thing newplace` 复制下一级路径 `thing` 为新路径 `newplace`"
   ]
  },
  {
   "cell_type": "markdown",
   "metadata": {},
   "source": [
    "`robocopy`"
   ]
  },
  {
   "cell_type": "markdown",
   "metadata": {},
   "source": [
    "```powershell\n",
    "mv awesome.txt uncool.txt\n",
    "mv newplace oldplace\n",
    "```\n",
    "`mv awesome.txt uncool.txt` 将文件`awesome.txt`移动到文件`uncool.txt`（移动后文件原来文件不存在，即重命名）\n",
    "\n",
    "`mv newplace oldplace` 将路径`newplace`移动到路径`oldplace`（移动后原来路径不存在，即重命名）"
   ]
  },
  {
   "cell_type": "markdown",
   "metadata": {},
   "source": [
    "```powershell\n",
    "more test.txt\n",
    "```\n",
    "`more test.txt`查看文件`test.txt`的内容（内容多会分页显示，空格键向下翻页）"
   ]
  },
  {
   "cell_type": "markdown",
   "metadata": {},
   "source": [
    "```powershell\n",
    "cat test.txt\n",
    "cat test.txt,test2.txt\n",
    "```\n",
    "`cat test.txt`查看文件`test.txt`的内容（一次性显示出来，不分页）\n",
    "\n",
    "`cat test.txt,test2.txt` 同时查看`test.txt`和`test2.txt`两个文件的内容"
   ]
  },
  {
   "cell_type": "markdown",
   "metadata": {},
   "source": [
    "```powershell\n",
    "exit\n",
    "```\n",
    "`exit` 退出命令行终端"
   ]
  },
  {
   "cell_type": "markdown",
   "metadata": {},
   "source": [
    "`type`"
   ]
  },
  {
   "cell_type": "markdown",
   "metadata": {},
   "source": [
    "`forfiles`"
   ]
  },
  {
   "cell_type": "markdown",
   "metadata": {},
   "source": [
    "`dir -r`"
   ]
  },
  {
   "cell_type": "markdown",
   "metadata": {},
   "source": [
    "`select-string`"
   ]
  },
  {
   "cell_type": "markdown",
   "metadata": {},
   "source": [
    "`help`"
   ]
  },
  {
   "cell_type": "markdown",
   "metadata": {},
   "source": [
    "`helpctr`"
   ]
  },
  {
   "cell_type": "markdown",
   "metadata": {},
   "source": [
    "`echo`"
   ]
  },
  {
   "cell_type": "markdown",
   "metadata": {},
   "source": [
    "`set`"
   ]
  },
  {
   "cell_type": "markdown",
   "metadata": {},
   "source": [
    "`runas` 成为超级用户或 root, **危险命令！**"
   ]
  },
  {
   "cell_type": "markdown",
   "metadata": {},
   "source": [
    "## 获取软件安装路径和版本\n",
    "**获取软件安装路径用`which`命令，获取版本则在软件名称后加`--version`或`-v`**\n",
    "\n",
    "在jupyter lab 里 cell 最前面加`!` 可以直接看作调用命令行"
   ]
  },
  {
   "cell_type": "code",
   "execution_count": 5,
   "metadata": {},
   "outputs": [
    {
     "name": "stdout",
     "output_type": "stream",
     "text": [
      "C:/Users/zhong/scoop/shims/python.exe\n"
     ]
    }
   ],
   "source": [
    "!which python #获取软件安装路径"
   ]
  },
  {
   "cell_type": "code",
   "execution_count": 4,
   "metadata": {},
   "outputs": [
    {
     "name": "stdout",
     "output_type": "stream",
     "text": [
      "Python 3.7.4\n"
     ]
    }
   ],
   "source": [
    "!python --version #获取软件版本"
   ]
  },
  {
   "cell_type": "code",
   "execution_count": 6,
   "metadata": {},
   "outputs": [
    {
     "name": "stdout",
     "output_type": "stream",
     "text": [
      "C:/Users/zhong/scoop/apps/nodejs/current/node.exe\n"
     ]
    }
   ],
   "source": [
    "!which node"
   ]
  },
  {
   "cell_type": "code",
   "execution_count": 16,
   "metadata": {},
   "outputs": [
    {
     "name": "stdout",
     "output_type": "stream",
     "text": [
      "v13.7.0\n"
     ]
    }
   ],
   "source": [
    "!node -v"
   ]
  },
  {
   "cell_type": "code",
   "execution_count": 8,
   "metadata": {},
   "outputs": [
    {
     "name": "stdout",
     "output_type": "stream",
     "text": [
      "C:/Users/zhong/scoop/apps/python37/current/scripts/jupyter.exe\n"
     ]
    }
   ],
   "source": [
    "!which jupyter"
   ]
  },
  {
   "cell_type": "code",
   "execution_count": 9,
   "metadata": {},
   "outputs": [
    {
     "name": "stdout",
     "output_type": "stream",
     "text": [
      "1.2.5\n"
     ]
    }
   ],
   "source": [
    "!jupyter lab --version"
   ]
  },
  {
   "cell_type": "code",
   "execution_count": 10,
   "metadata": {},
   "outputs": [
    {
     "name": "stdout",
     "output_type": "stream",
     "text": [
      "6.0.3\n"
     ]
    }
   ],
   "source": [
    "!jupyter notebook --version"
   ]
  },
  {
   "cell_type": "code",
   "execution_count": 12,
   "metadata": {},
   "outputs": [
    {
     "name": "stdout",
     "output_type": "stream",
     "text": [
      "C:/Users/zhong/scoop/apps/python37/current/scripts/pip.exe\n"
     ]
    }
   ],
   "source": [
    "!which pip"
   ]
  },
  {
   "cell_type": "code",
   "execution_count": 14,
   "metadata": {},
   "outputs": [
    {
     "name": "stdout",
     "output_type": "stream",
     "text": [
      "pip 21.0.1 from c:\\users\\zhong\\scoop\\apps\\python37\\current\\lib\\site-packages\\pip (python 3.7)\n",
      "\n"
     ]
    }
   ],
   "source": [
    "!pip -V"
   ]
  },
  {
   "cell_type": "code",
   "execution_count": null,
   "metadata": {},
   "outputs": [],
   "source": []
  }
 ],
 "metadata": {
  "kernelspec": {
   "display_name": "Python 3",
   "language": "python",
   "name": "python3"
  },
  "language_info": {
   "codemirror_mode": {
    "name": "ipython",
    "version": 3
   },
   "file_extension": ".py",
   "mimetype": "text/x-python",
   "name": "python",
   "nbconvert_exporter": "python",
   "pygments_lexer": "ipython3",
   "version": "3.7.4"
  }
 },
 "nbformat": 4,
 "nbformat_minor": 4
}
